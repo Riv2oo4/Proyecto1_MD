{
 "cells": [
  {
   "cell_type": "markdown",
   "metadata": {},
   "source": [
    "### Análisis Exploratorio \n"
   ]
  },
  {
   "cell_type": "code",
   "execution_count": null,
   "metadata": {},
   "outputs": [],
   "source": [
    "import pandas as pd\n",
    "import numpy as np\n",
    "import matplotlib.pyplot as plt\n",
    "import seaborn as sns\n",
    "from sklearn.model_selection import train_test_split\n",
    "from sklearn.preprocessing import StandardScaler, LabelEncoder\n",
    "from sklearn.preprocessing import OneHotEncoder\n",
    "from sklearn.compose import ColumnTransformer\n",
    "from sklearn.linear_model import LinearRegression\n",
    "from sklearn.tree import DecisionTreeRegressor\n",
    "from sklearn.metrics import r2_score, mean_squared_error, mean_absolute_error\n",
    "from sklearn.ensemble import RandomForestRegressor\n",
    "from sklearn.svm import SVR\n",
    "from sklearn.preprocessing import PolynomialFeatures\n",
    "from sklearn.pipeline import make_pipeline\n",
    "import statsmodels.api as sm\n"
   ]
  },
  {
   "cell_type": "code",
   "execution_count": null,
   "metadata": {},
   "outputs": [],
   "source": [
    "sns.set_style(\"whitegrid\")\n",
    "train_df = pd.read_csv(\"train.csv\")"
   ]
  },
  {
   "cell_type": "code",
   "execution_count": null,
   "metadata": {},
   "outputs": [],
   "source": [
    "print(\"Información general del dataset:\")\n",
    "train_df.info()\n",
    "\n",
    "print(\"\\nResumen estadístico:\")\n",
    "print(train_df.describe())"
   ]
  },
  {
   "cell_type": "code",
   "execution_count": null,
   "metadata": {},
   "outputs": [],
   "source": [
    "missing_values = train_df.isnull().sum()\n",
    "missing_values = missing_values[missing_values > 0].sort_values(ascending=False)\n",
    "print(\"\\nValores nulos por columna:\")\n",
    "print(missing_values)"
   ]
  },
  {
   "cell_type": "code",
   "execution_count": null,
   "metadata": {},
   "outputs": [],
   "source": [
    "# Llenar valores nulos en variables categóricas con \"None\"\n",
    "categorical_features = [\"PoolQC\", \"MiscFeature\", \"Alley\", \"Fence\", \"FireplaceQu\",\n",
    "                        \"GarageType\", \"GarageFinish\", \"GarageQual\", \"GarageCond\",\n",
    "                        \"BsmtQual\", \"BsmtCond\", \"BsmtExposure\", \"BsmtFinType1\", \"BsmtFinType2\"]\n",
    "# Llenar valores nulos en variables categóricas con \"None\"\n",
    "train_df[categorical_features] = train_df[categorical_features].fillna(\"None\")\n",
    "\n",
    "numerical_features = [\"LotFrontage\", \"GarageYrBlt\", \"MasVnrArea\"]\n",
    "\n",
    "# Llenar valores nulos en variables numéricas con la mediana\n",
    "train_df[numerical_features] = train_df[numerical_features].apply(lambda x: x.fillna(x.median()))\n",
    "    \n"
   ]
  },
  {
   "cell_type": "code",
   "execution_count": null,
   "metadata": {},
   "outputs": [],
   "source": [
    "# Aplicar logaritmo al precio de venta para normalizar\n",
    "train_df[\"SalePrice\"] = np.log1p(train_df[\"SalePrice\"])\n",
    "\n",
    "# Convertir variables categóricas en numéricas con Label Encoding de forma vectorizada\n",
    "label_encoders = {col: LabelEncoder().fit(train_df[col]) for col in categorical_features}\n",
    "train_df[categorical_features] = train_df[categorical_features].apply(lambda col: label_encoders[col.name].transform(col))\n"
   ]
  },
  {
   "cell_type": "code",
   "execution_count": null,
   "metadata": {},
   "outputs": [],
   "source": [
    "#4. ANÁLISIS DE CORRELACIÓN\n",
    "plt.figure(figsize=(10, 8))\n",
    "corr_matrix = train_df.corr(numeric_only=True)\n",
    "sns.heatmap(corr_matrix[['SalePrice']].sort_values(by='SalePrice', ascending=False), \n",
    "            annot=True, cmap=\"coolwarm\", linewidths=0.5)\n",
    "plt.title(\"Correlación de Variables con SalePrice\")\n",
    "plt.show()"
   ]
  },
  {
   "cell_type": "code",
   "execution_count": null,
   "metadata": {},
   "outputs": [],
   "source": [
    "correlation_threshold = 0.5\n",
    "strong_corr_vars = corr_matrix[\"SalePrice\"].abs().sort_values(ascending=False)\n",
    "strong_corr_vars = strong_corr_vars[strong_corr_vars > correlation_threshold]\n",
    "print(\"Variables con mayor correlación con SalePrice:\")\n",
    "print(strong_corr_vars)"
   ]
  },
  {
   "cell_type": "code",
   "execution_count": null,
   "metadata": {},
   "outputs": [],
   "source": [
    "# 5. DIVISIÓN DEL DATASET \n",
    "X = train_df.drop(columns=[\"SalePrice\", \"Id\"])\n",
    "y = train_df[\"SalePrice\"]\n",
    "\n",
    "X_train, X_test, y_train, y_test = train_test_split(X, y, test_size=0.2, random_state=42)\n",
    "\n",
    "print(\"Tamaño de los conjuntos de datos:\")\n",
    "print(f\"Entrenamiento: {X_train.shape}, Prueba: {X_test.shape}\")\n",
    "\n"
   ]
  },
  {
   "cell_type": "code",
   "execution_count": null,
   "metadata": {},
   "outputs": [],
   "source": [
    "categorical_features = X_train.select_dtypes(include=['object']).columns\n",
    "\n",
    "column_transformer = ColumnTransformer(\n",
    "    transformers=[('cat', OneHotEncoder(handle_unknown='ignore', sparse_output=False), categorical_features)],\n",
    "    remainder='passthrough' \n",
    ")\n",
    "\n",
    "X_train_transformed = column_transformer.fit_transform(X_train)\n",
    "X_test_transformed = column_transformer.transform(X_test)\n",
    "\n",
    "X_train_transformed = pd.DataFrame(X_train_transformed, columns=column_transformer.get_feature_names_out())\n",
    "X_test_transformed = pd.DataFrame(X_test_transformed, columns=column_transformer.get_feature_names_out())\n",
    "\n",
    "print(\"Transformación de datos completada correctamente\")\n",
    "\n",
    "print(\"Preprocesamiento completado\")"
   ]
  },
  {
   "cell_type": "markdown",
   "metadata": {},
   "source": [
    "# Análisis de relaciones con la variable respuesta"
   ]
  },
  {
   "cell_type": "markdown",
   "metadata": {},
   "source": [
    "### Análisis de Relación con Gráficos de Dispersión"
   ]
  },
  {
   "cell_type": "code",
   "execution_count": null,
   "metadata": {},
   "outputs": [],
   "source": [
    "fig, axes = plt.subplots(2, 3, figsize=(18, 10))\n",
    "axes = axes.flatten()  \n",
    "\n",
    "top_vars = [\"GrLivArea\", \"GarageArea\", \"TotalBsmtSF\", \"1stFlrSF\", \"OverallQual\", \"YearBuilt\"]\n",
    "\n",
    "for var, ax in zip(top_vars, axes):\n",
    "    sns.scatterplot(x=train_df[var], y=train_df[\"SalePrice\"], ax=ax)\n",
    "    ax.set_title(f\"{var} vs SalePrice\")\n",
    "\n",
    "plt.tight_layout()\n",
    "plt.show()\n"
   ]
  },
  {
   "cell_type": "markdown",
   "metadata": {},
   "source": [
    "### Análisis de Relación con Boxplots"
   ]
  },
  {
   "cell_type": "code",
   "execution_count": null,
   "metadata": {},
   "outputs": [],
   "source": [
    "plt.figure(figsize=(12, 6))\n",
    "sns.boxplot(x=train_df[\"OverallQual\"], y=train_df[\"SalePrice\"])\n",
    "plt.xlabel(\"Calidad de Construcción (OverallQual)\")\n",
    "plt.ylabel(\"Precio de Venta (USD)\")\n",
    "plt.title(\"Relación entre Calidad de Construcción y Precio de Venta\")\n",
    "plt.show()"
   ]
  },
  {
   "cell_type": "markdown",
   "metadata": {},
   "source": [
    "### Regresión Lineal para evaluar impacto de variables"
   ]
  },
  {
   "cell_type": "code",
   "execution_count": null,
   "metadata": {},
   "outputs": [],
   "source": [
    "from sklearn.preprocessing import StandardScaler\n",
    "from sklearn.pipeline import Pipeline\n",
    "from sklearn.linear_model import LinearRegression\n",
    "\n",
    "# Crear y entrenar el modelo en un pipeline\n",
    "pipeline = Pipeline([\n",
    "    (\"scaler\", StandardScaler()),\n",
    "    (\"regression\", LinearRegression())\n",
    "])\n",
    "\n",
    "pipeline.fit(X_train_transformed, y_train)\n",
    "# Obtener coeficientes de regresión\n",
    "coef_dict = dict(zip(X.columns, pipeline.named_steps[\"regression\"].coef_))\n",
    "\n",
    "print(\"\\nCoeficientes de la regresión lineal:\")\n",
    "for var, coef in coef_dict.items():\n",
    "    print(f\"{var}: {coef:.2f}\")\n"
   ]
  },
  {
   "cell_type": "markdown",
   "metadata": {},
   "source": [
    "### Árbol de Decisión para relaciones no lineales"
   ]
  },
  {
   "cell_type": "code",
   "execution_count": null,
   "metadata": {},
   "outputs": [],
   "source": [
    "tree = DecisionTreeRegressor(max_depth=4)\n",
    "tree.fit(X_train_transformed, y_train)\n",
    "\n",
    "importances = tree.feature_importances_\n",
    "feature_names = X_train_transformed.columns\n",
    "\n",
    "importance_df = pd.DataFrame({\"Feature\": feature_names, \"Importance\": importances})\n",
    "importance_df = importance_df.sort_values(by=\"Importance\", ascending=False).head(10)\n",
    "\n",
    "plt.figure(figsize=(12, 6))\n",
    "sns.barplot(x=importance_df[\"Feature\"], y=importance_df[\"Importance\"], palette=\"Blues_r\")\n",
    "\n",
    "plt.xticks(rotation=45, ha=\"right\") \n",
    "plt.title(\"Top 10 Variables más Importantes según Árbol de Decisión\")\n",
    "plt.xlabel(\"Variable\")\n",
    "plt.ylabel(\"Importancia\")\n",
    "plt.show()\n"
   ]
  },
  {
   "cell_type": "code",
   "execution_count": null,
   "metadata": {},
   "outputs": [],
   "source": [
    "fig, axes = plt.subplots(3, 2, figsize=(18, 12))\n",
    "axes = axes.flatten()\n",
    "top_vars = [\"GrLivArea\", \"GarageArea\", \"TotalBsmtSF\", \"1stFlrSF\", \"OverallQual\", \"YearBuilt\"]\n",
    "\n",
    "for var, ax in zip(top_vars, axes):\n",
    "    sns.histplot(train_df[var], bins=30, kde=True, ax=ax)\n",
    "    ax.set_title(f'Distribución de {var}')\n",
    "    \n",
    "plt.tight_layout()\n",
    "plt.show()\n"
   ]
  },
  {
   "cell_type": "code",
   "execution_count": null,
   "metadata": {},
   "outputs": [],
   "source": [
    "def evaluar_modelo(modelo, X_test_transformed, y_test, nombre_modelo):\n",
    "    y_pred = modelo.predict(X_test_transformed)\n",
    "    r2 = r2_score(y_test, y_pred)\n",
    "    rmse = np.sqrt(mean_squared_error(y_test, y_pred))\n",
    "    mae = mean_absolute_error(y_test, y_pred)\n",
    "    \n",
    "    print(f\"{nombre_modelo} - R2: {r2:.4f}, RMSE: {rmse:.4f}, MAE: {mae:.4f}\")\n",
    "evaluar_modelo(pipeline, X_test_transformed, y_test, \"Regresión Lineal\")\n",
    "evaluar_modelo(tree, X_test_transformed, y_test, \"Árbol de Decisión\")"
   ]
  },
  {
   "cell_type": "code",
   "execution_count": null,
   "metadata": {},
   "outputs": [],
   "source": []
  },
  {
   "cell_type": "code",
   "execution_count": null,
   "metadata": {},
   "outputs": [],
   "source": [
    "rf = RandomForestRegressor(n_estimators=100, max_depth=10, random_state=42)\n",
    "rf.fit(X_train_transformed, y_train)\n",
    "\n",
    "evaluar_modelo(rf, X_test_transformed, y_test, \"Random Forest\")"
   ]
  },
  {
   "cell_type": "code",
   "execution_count": null,
   "metadata": {},
   "outputs": [],
   "source": [
    "svr = SVR(kernel='rbf', C=100, gamma=0.1)\n",
    "svr.fit(X_train_transformed, y_train)\n",
    "\n",
    "evaluar_modelo(svr, X_test_transformed, y_test, \"SVR\")"
   ]
  },
  {
   "cell_type": "code",
   "execution_count": null,
   "metadata": {},
   "outputs": [],
   "source": [
    "poly_model = make_pipeline(PolynomialFeatures(degree=2), LinearRegression())\n",
    "poly_model.fit(X_train_transformed, y_train)\n",
    "\n",
    "evaluar_modelo(poly_model, X_test_transformed, y_test, \"Regresión Polinomial\")"
   ]
  },
  {
   "cell_type": "markdown",
   "metadata": {},
   "source": [
    "## Modelo Univariado de Regresión Lineal"
   ]
  },
  {
   "cell_type": "code",
   "execution_count": null,
   "metadata": {},
   "outputs": [],
   "source": [
    "X_uni = X_train_transformed[\"GrLivArea\"]\n",
    "y_uni = y_train\n",
    "X_uni = sm.add_constant(X_uni)\n",
    "model_uni = sm.OLS(y_uni, X_uni).fit()\n",
    "y_pred_uni = model_uni.predict(X_uni)\n",
    "plt.figure(figsize=(8,6))\n",
    "sns.scatterplot(x=X_train_transformed[\"GrLivArea\"], y=y_train, alpha=0.5)\n",
    "plt.plot(X_train_transformed[\"GrLivArea\"], y_pred_uni, color='red')\n",
    "plt.xlabel(\"GrLivArea\")\n",
    "plt.ylabel(\"SalePrice\")\n",
    "plt.title(\"Regresión Lineal Univariada: GrLivArea vs SalePrice\")\n",
    "plt.show()\n",
    "print(model_uni.summary())\n"
   ]
  }
 ],
 "metadata": {
  "kernelspec": {
   "display_name": "Python 3",
   "language": "python",
   "name": "python3"
  },
  "language_info": {
   "codemirror_mode": {
    "name": "ipython",
    "version": 3
   },
   "file_extension": ".py",
   "mimetype": "text/x-python",
   "name": "python",
   "nbconvert_exporter": "python",
   "pygments_lexer": "ipython3",
   "version": "3.11.3"
  }
 },
 "nbformat": 4,
 "nbformat_minor": 2
}
